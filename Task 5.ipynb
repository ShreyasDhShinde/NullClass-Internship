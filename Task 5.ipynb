{
 "cells": [
  {
   "cell_type": "markdown",
   "metadata": {},
   "source": [
    "# Sign Language Detection (Image & Video)\n",
    "This notebook includes training a CNN model to detect basic sign language words and implements a GUI that allows image/video input with time-based restrictions (6 PM - 10 PM)."
   ]
  },
  {
   "cell_type": "code",
   "execution_count": null,
   "metadata": {},
   "outputs": [],
   "source": [
    "# Import libraries\n",
    "import os\n",
    "import cv2\n",
    "import numpy as np\n",
    "import datetime\n",
    "import tkinter as tk\n",
    "from tkinter import filedialog\n",
    "from tensorflow.keras.models import Sequential\n",
    "from tensorflow.keras.layers import Conv2D, MaxPooling2D, Flatten, Dense\n",
    "from sklearn.preprocessing import LabelBinarizer\n",
    "import matplotlib.pyplot as plt"
   ]
  },
  {
   "cell_type": "code",
   "execution_count": null,
   "metadata": {},
   "outputs": [],
   "source": [
    "# Load and preprocess dataset\n",
    "data_dir = \"E:\\Null Class\\Project Tasks\\Task 5\\FGNET\\images\"  # Update this path\n",
    "categories = ['A', 'B', 'C', 'Hello', 'Yes']  # Use any subset you prefer\n",
    "data = []\n",
    "\n",
    "for category in categories:\n",
    "    path = os.path.join(data_dir, category)\n",
    "    for img in os.listdir(path)[:200]:\n",
    "        try:\n",
    "            img_array = cv2.imread(os.path.join(path, img), cv2.IMREAD_GRAYSCALE)\n",
    "            resized = cv2.resize(img_array, (64, 64))\n",
    "            data.append([resized, category])\n",
    "        except Exception as e:\n",
    "            pass\n",
    "\n",
    "X, y = zip(*data)\n",
    "X = np.array(X).reshape(-1, 64, 64, 1) / 255.0\n",
    "lb = LabelBinarizer()\n",
    "y = lb.fit_transform(y)"
   ]
  },
  {
   "cell_type": "code",
   "execution_count": null,
   "metadata": {},
   "outputs": [],
   "source": [
    "# Define CNN model\n",
    "model = Sequential([\n",
    "    Conv2D(32, (3, 3), activation='relu', input_shape=(64, 64, 1)),\n",
    "    MaxPooling2D(2, 2),\n",
    "    Flatten(),\n",
    "    Dense(64, activation='relu'),\n",
    "    Dense(len(categories), activation='softmax')\n",
    "])\n",
    "\n",
    "model.compile(optimizer='adam', loss='categorical_crossentropy', metrics=['accuracy'])\n",
    "model.fit(X, y, epochs=5, validation_split=0.2)"
   ]
  },
  {
   "cell_type": "code",
   "execution_count": null,
   "metadata": {},
   "outputs": [],
   "source": [
    "# Save the trained model\n",
    "model.save(\"sign_language_model.h5\")"
   ]
  },
  {
   "cell_type": "code",
   "execution_count": null,
   "metadata": {},
   "outputs": [],
   "source": [
    "# GUI with time restriction (6 PM to 10 PM)\n",
    "def is_allowed_time():\n",
    "    now = datetime.datetime.now().time()\n",
    "    return datetime.time(18, 0) <= now <= datetime.time(22, 0)\n",
    "\n",
    "def start_app():\n",
    "    if not is_allowed_time():\n",
    "        print(\"App can only be used between 6 PM and 10 PM.\")\n",
    "        return\n",
    "    print(\"App Started - Add upload/video detection code here\")\n",
    "\n",
    "# Tkinter GUI\n",
    "window = tk.Tk()\n",
    "window.title(\"Sign Language Detector\")\n",
    "\n",
    "start_btn = tk.Button(window, text=\"Start App\", command=start_app)\n",
    "start_btn.pack()\n",
    "\n",
    "window.mainloop()"
   ]
  }
 ],
 "metadata": {
  "kernelspec": {
   "display_name": "Python 3",
   "language": "python",
   "name": "python3"
  },
  "language_info": {
   "name": "python",
   "version": "3.8"
  }
 },
 "nbformat": 4,
 "nbformat_minor": 2
}
